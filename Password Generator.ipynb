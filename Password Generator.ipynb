{
  "nbformat": 4,
  "nbformat_minor": 0,
  "metadata": {
    "colab": {
      "name": "Untitled3.ipynb",
      "provenance": [],
      "toc_visible": true,
      "authorship_tag": "ABX9TyPaHd7A5Epu6FyfPfiBdFTT",
      "include_colab_link": true
    },
    "kernelspec": {
      "name": "python3",
      "display_name": "Python 3"
    },
    "language_info": {
      "name": "python"
    }
  },
  "cells": [
    {
      "cell_type": "markdown",
      "metadata": {
        "id": "view-in-github",
        "colab_type": "text"
      },
      "source": [
        "<a href=\"https://colab.research.google.com/github/93Chidiebere/93Chidiebere/blob/main/Password%20Generator.ipynb\" target=\"_parent\"><img src=\"https://colab.research.google.com/assets/colab-badge.svg\" alt=\"Open In Colab\"/></a>"
      ]
    },
    {
      "cell_type": "markdown",
      "metadata": {
        "id": "6XKZYG9TmdLV"
      },
      "source": [
        "##PASSWORD GENERATOR"
      ]
    },
    {
      "cell_type": "code",
      "metadata": {
        "colab": {
          "base_uri": "https://localhost:8080/"
        },
        "id": "aJKGDO7rmyin",
        "outputId": "243998af-ba16-4956-ecc4-f1c6af42efe2"
      },
      "source": [
        "import random\n",
        "\n",
        "def shuffle(string):\n",
        "  tempList = list(string)\n",
        "  random.shuffle(tempList)\n",
        "  return ''.join(tempList)\n",
        "\n",
        "uppercaseLetter1=chr(random.randint(65,90)) #Generate a random Uppercase letter (based on ASCII code)\n",
        "uppercaseLetter2=chr(random.randint(65,90)) #Generate a random Uppercase letter (based on ASCII code)\n",
        "lowercaseLetter1=chr(random.randint(97,122)) #Generate a random Lowercase letter (based on ASCII code)\n",
        "lowercaseLetter2=chr(random.randint(97,122)) #Generate a random Lowercase letter (based on ASCII code)\n",
        "digit1=chr(random.randint(32,38)) #Generate a random Digit (based on ASCII code)\n",
        "digit2=chr(random.randint(32,38)) #Generate a random Digit (based on ASCII code)\n",
        "specialCharacter1=chr(random.randint(32,38)) #Generate a random special character (based on ASCII code)\n",
        "specialCharacter2=chr(random.randint(32,38)) #Generate a random special character (based on ASCII code)\n",
        "\n",
        "\n",
        "#USE THE ASCII CODE TO GENERATE PASSWORD\n",
        "password = uppercaseLetter1 + uppercaseLetter2 + lowercaseLetter1 + lowercaseLetter2 + digit1 + digit2 + specialCharacter1 + specialCharacter2 # + ....\n",
        "password = shuffle(password)\n",
        "\n",
        "#Ouput\n",
        "print(password)"
      ],
      "execution_count": null,
      "outputs": [
        {
          "output_type": "stream",
          "text": [
            "!j!\"HfB$\n"
          ],
          "name": "stdout"
        }
      ]
    }
  ]
}